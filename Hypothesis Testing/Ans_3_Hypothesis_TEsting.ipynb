{
 "cells": [
  {
   "attachments": {},
   "cell_type": "markdown",
   "id": "7d4b3c25",
   "metadata": {},
   "source": [
    "## Hypothesis Testing\n",
    "\n",
    "Sales of products in four different regions is tabulated for males and females. Find if male-female buyer rations are similar across regions.\n",
    "\n",
    "1. Check p-value\n",
    "2. If p-Value < alpha, we reject Null Hypothesis\n"
   ]
  },
  {
   "cell_type": "code",
   "execution_count": 118,
   "id": "0bc51f36",
   "metadata": {},
   "outputs": [],
   "source": [
    "import pandas as pd\n",
    "import numpy as np\n",
    "import scipy\n",
    "from scipy import stats"
   ]
  },
  {
   "cell_type": "code",
   "execution_count": 119,
   "id": "70bec5c9",
   "metadata": {},
   "outputs": [],
   "source": [
    "df=pd.read_csv('BuyerRatio.csv')"
   ]
  },
  {
   "cell_type": "code",
   "execution_count": 120,
   "id": "57258d3b",
   "metadata": {},
   "outputs": [
    {
     "data": {
      "text/html": [
       "<div>\n",
       "<style scoped>\n",
       "    .dataframe tbody tr th:only-of-type {\n",
       "        vertical-align: middle;\n",
       "    }\n",
       "\n",
       "    .dataframe tbody tr th {\n",
       "        vertical-align: top;\n",
       "    }\n",
       "\n",
       "    .dataframe thead th {\n",
       "        text-align: right;\n",
       "    }\n",
       "</style>\n",
       "<table border=\"1\" class=\"dataframe\">\n",
       "  <thead>\n",
       "    <tr style=\"text-align: right;\">\n",
       "      <th></th>\n",
       "      <th>Observed Values</th>\n",
       "      <th>East</th>\n",
       "      <th>West</th>\n",
       "      <th>North</th>\n",
       "      <th>South</th>\n",
       "    </tr>\n",
       "  </thead>\n",
       "  <tbody>\n",
       "    <tr>\n",
       "      <th>0</th>\n",
       "      <td>Males</td>\n",
       "      <td>50</td>\n",
       "      <td>142</td>\n",
       "      <td>131</td>\n",
       "      <td>70</td>\n",
       "    </tr>\n",
       "    <tr>\n",
       "      <th>1</th>\n",
       "      <td>Females</td>\n",
       "      <td>435</td>\n",
       "      <td>1523</td>\n",
       "      <td>1356</td>\n",
       "      <td>750</td>\n",
       "    </tr>\n",
       "  </tbody>\n",
       "</table>\n",
       "</div>"
      ],
      "text/plain": [
       "  Observed Values  East  West  North  South\n",
       "0           Males    50   142    131     70\n",
       "1         Females   435  1523   1356    750"
      ]
     },
     "execution_count": 120,
     "metadata": {},
     "output_type": "execute_result"
    }
   ],
   "source": [
    "df.head()"
   ]
  },
  {
   "cell_type": "code",
   "execution_count": 121,
   "id": "94b9097b",
   "metadata": {},
   "outputs": [
    {
     "name": "stdout",
     "output_type": "stream",
     "text": [
      "<class 'pandas.core.frame.DataFrame'>\n",
      "RangeIndex: 2 entries, 0 to 1\n",
      "Data columns (total 5 columns):\n",
      " #   Column           Non-Null Count  Dtype \n",
      "---  ------           --------------  ----- \n",
      " 0   Observed Values  2 non-null      object\n",
      " 1   East             2 non-null      int64 \n",
      " 2   West             2 non-null      int64 \n",
      " 3   North            2 non-null      int64 \n",
      " 4   South            2 non-null      int64 \n",
      "dtypes: int64(4), object(1)\n",
      "memory usage: 212.0+ bytes\n"
     ]
    }
   ],
   "source": [
    "df.info()"
   ]
  },
  {
   "cell_type": "code",
   "execution_count": 122,
   "id": "0df5ac64",
   "metadata": {},
   "outputs": [
    {
     "data": {
      "text/html": [
       "<div>\n",
       "<style scoped>\n",
       "    .dataframe tbody tr th:only-of-type {\n",
       "        vertical-align: middle;\n",
       "    }\n",
       "\n",
       "    .dataframe tbody tr th {\n",
       "        vertical-align: top;\n",
       "    }\n",
       "\n",
       "    .dataframe thead th {\n",
       "        text-align: right;\n",
       "    }\n",
       "</style>\n",
       "<table border=\"1\" class=\"dataframe\">\n",
       "  <thead>\n",
       "    <tr style=\"text-align: right;\">\n",
       "      <th></th>\n",
       "      <th>East</th>\n",
       "      <th>West</th>\n",
       "      <th>North</th>\n",
       "      <th>South</th>\n",
       "    </tr>\n",
       "  </thead>\n",
       "  <tbody>\n",
       "    <tr>\n",
       "      <th>count</th>\n",
       "      <td>2.000000</td>\n",
       "      <td>2.000000</td>\n",
       "      <td>2.000000</td>\n",
       "      <td>2.000000</td>\n",
       "    </tr>\n",
       "    <tr>\n",
       "      <th>mean</th>\n",
       "      <td>242.500000</td>\n",
       "      <td>832.500000</td>\n",
       "      <td>743.500000</td>\n",
       "      <td>410.000000</td>\n",
       "    </tr>\n",
       "    <tr>\n",
       "      <th>std</th>\n",
       "      <td>272.236111</td>\n",
       "      <td>976.514465</td>\n",
       "      <td>866.205807</td>\n",
       "      <td>480.832611</td>\n",
       "    </tr>\n",
       "    <tr>\n",
       "      <th>min</th>\n",
       "      <td>50.000000</td>\n",
       "      <td>142.000000</td>\n",
       "      <td>131.000000</td>\n",
       "      <td>70.000000</td>\n",
       "    </tr>\n",
       "    <tr>\n",
       "      <th>25%</th>\n",
       "      <td>146.250000</td>\n",
       "      <td>487.250000</td>\n",
       "      <td>437.250000</td>\n",
       "      <td>240.000000</td>\n",
       "    </tr>\n",
       "    <tr>\n",
       "      <th>50%</th>\n",
       "      <td>242.500000</td>\n",
       "      <td>832.500000</td>\n",
       "      <td>743.500000</td>\n",
       "      <td>410.000000</td>\n",
       "    </tr>\n",
       "    <tr>\n",
       "      <th>75%</th>\n",
       "      <td>338.750000</td>\n",
       "      <td>1177.750000</td>\n",
       "      <td>1049.750000</td>\n",
       "      <td>580.000000</td>\n",
       "    </tr>\n",
       "    <tr>\n",
       "      <th>max</th>\n",
       "      <td>435.000000</td>\n",
       "      <td>1523.000000</td>\n",
       "      <td>1356.000000</td>\n",
       "      <td>750.000000</td>\n",
       "    </tr>\n",
       "  </tbody>\n",
       "</table>\n",
       "</div>"
      ],
      "text/plain": [
       "             East         West        North       South\n",
       "count    2.000000     2.000000     2.000000    2.000000\n",
       "mean   242.500000   832.500000   743.500000  410.000000\n",
       "std    272.236111   976.514465   866.205807  480.832611\n",
       "min     50.000000   142.000000   131.000000   70.000000\n",
       "25%    146.250000   487.250000   437.250000  240.000000\n",
       "50%    242.500000   832.500000   743.500000  410.000000\n",
       "75%    338.750000  1177.750000  1049.750000  580.000000\n",
       "max    435.000000  1523.000000  1356.000000  750.000000"
      ]
     },
     "execution_count": 122,
     "metadata": {},
     "output_type": "execute_result"
    }
   ],
   "source": [
    "df.describe()"
   ]
  },
  {
   "cell_type": "code",
   "execution_count": 123,
   "id": "16456d9c",
   "metadata": {},
   "outputs": [],
   "source": [
    "# Null hypothesis (H0) : All proportion are equal \n",
    "#ALternative hypothesis (H1) : Not all proportions are equal"
   ]
  },
  {
   "cell_type": "code",
   "execution_count": 124,
   "id": "b936f015",
   "metadata": {},
   "outputs": [],
   "source": [
    "from scipy.stats import chi2_contingency"
   ]
  },
  {
   "cell_type": "code",
   "execution_count": 125,
   "id": "c625139d",
   "metadata": {},
   "outputs": [],
   "source": [
    "data = [[50, 142, 131, 70], [435, 1523, 1356, 750]]"
   ]
  },
  {
   "cell_type": "code",
   "execution_count": 126,
   "id": "32894cec",
   "metadata": {},
   "outputs": [],
   "source": [
    "df1 = pd.DataFrame(data)\n"
   ]
  },
  {
   "cell_type": "code",
   "execution_count": 127,
   "id": "2acd0070",
   "metadata": {},
   "outputs": [
    {
     "data": {
      "text/html": [
       "<div>\n",
       "<style scoped>\n",
       "    .dataframe tbody tr th:only-of-type {\n",
       "        vertical-align: middle;\n",
       "    }\n",
       "\n",
       "    .dataframe tbody tr th {\n",
       "        vertical-align: top;\n",
       "    }\n",
       "\n",
       "    .dataframe thead th {\n",
       "        text-align: right;\n",
       "    }\n",
       "</style>\n",
       "<table border=\"1\" class=\"dataframe\">\n",
       "  <thead>\n",
       "    <tr style=\"text-align: right;\">\n",
       "      <th></th>\n",
       "      <th>0</th>\n",
       "      <th>1</th>\n",
       "      <th>2</th>\n",
       "      <th>3</th>\n",
       "    </tr>\n",
       "  </thead>\n",
       "  <tbody>\n",
       "    <tr>\n",
       "      <th>0</th>\n",
       "      <td>50</td>\n",
       "      <td>142</td>\n",
       "      <td>131</td>\n",
       "      <td>70</td>\n",
       "    </tr>\n",
       "    <tr>\n",
       "      <th>1</th>\n",
       "      <td>435</td>\n",
       "      <td>1523</td>\n",
       "      <td>1356</td>\n",
       "      <td>750</td>\n",
       "    </tr>\n",
       "  </tbody>\n",
       "</table>\n",
       "</div>"
      ],
      "text/plain": [
       "     0     1     2    3\n",
       "0   50   142   131   70\n",
       "1  435  1523  1356  750"
      ]
     },
     "execution_count": 127,
     "metadata": {},
     "output_type": "execute_result"
    }
   ],
   "source": [
    "df1"
   ]
  },
  {
   "cell_type": "code",
   "execution_count": 128,
   "id": "2c2806a9",
   "metadata": {},
   "outputs": [],
   "source": [
    "stat,p,dof,expected = chi2_contingency(df1)"
   ]
  },
  {
   "cell_type": "code",
   "execution_count": 129,
   "id": "fff25511",
   "metadata": {},
   "outputs": [
    {
     "name": "stdout",
     "output_type": "stream",
     "text": [
      "Chi-Squared Statistic: 1.595945538661058\n",
      "P-Value: 0.6603094907091882\n",
      "Degrees of Freedom: 3\n",
      "Expected Frequencies:\n",
      " [[  42.76531299  146.81287862  131.11756787   72.30424052]\n",
      " [ 442.23468701 1518.18712138 1355.88243213  747.69575948]]\n"
     ]
    }
   ],
   "source": [
    "print(\"Chi-Squared Statistic:\", stat)\n",
    "print(\"P-Value:\", p)\n",
    "print(\"Degrees of Freedom:\", dof)\n",
    "print(\"Expected Frequencies:\\n\", expected)"
   ]
  },
  {
   "cell_type": "code",
   "execution_count": 130,
   "id": "605b3693",
   "metadata": {},
   "outputs": [],
   "source": [
    "observed = np.array([50, 142, 131, 70, 435, 1523, 1356, 750])\n",
    "expected = np.array([42.76531299 ,146.81287862, 131.11756787 ,72.30424052, 442.23468701,1518.18712138,1355.88243213,747.69575948])"
   ]
  },
  {
   "cell_type": "code",
   "execution_count": 131,
   "id": "69def5c0",
   "metadata": {},
   "outputs": [
    {
     "name": "stdout",
     "output_type": "stream",
     "text": [
      "Statistics =  1.5959455390914483 \n",
      " P_Value =  0.8095206646905712\n"
     ]
    }
   ],
   "source": [
    "stat, p = stats.chisquare(observed, f_exp=expected, ddof = 3)\n",
    "print(\"Statistics = \",stat,\"\\n\",'P_Value = ', p)"
   ]
  },
  {
   "cell_type": "code",
   "execution_count": 132,
   "id": "50e0ec5a",
   "metadata": {},
   "outputs": [],
   "source": [
    "# Set the significance level (alpha)\n",
    "alpha = 0.05"
   ]
  },
  {
   "cell_type": "code",
   "execution_count": 133,
   "id": "1df175f0",
   "metadata": {},
   "outputs": [
    {
     "name": "stdout",
     "output_type": "stream",
     "text": [
      "\n",
      "Fail to Reject the Null Hypothesis: All proportions are equal.\n"
     ]
    }
   ],
   "source": [
    "if p < alpha:\n",
    "    print(\"\\nReject the Null Hypothesis: Not all proportions are equal.\")\n",
    "else:\n",
    "    print(\"\\nFail to Reject the Null Hypothesis: All proportions are equal.\")"
   ]
  },
  {
   "cell_type": "code",
   "execution_count": null,
   "id": "5ef33d5f",
   "metadata": {},
   "outputs": [],
   "source": []
  },
  {
   "cell_type": "code",
   "execution_count": null,
   "id": "9b6dba66",
   "metadata": {},
   "outputs": [],
   "source": []
  },
  {
   "cell_type": "code",
   "execution_count": null,
   "id": "6d017f67",
   "metadata": {},
   "outputs": [],
   "source": []
  },
  {
   "cell_type": "code",
   "execution_count": null,
   "id": "5647fe77",
   "metadata": {},
   "outputs": [],
   "source": []
  }
 ],
 "metadata": {
  "kernelspec": {
   "display_name": "Python 3 (ipykernel)",
   "language": "python",
   "name": "python3"
  },
  "language_info": {
   "codemirror_mode": {
    "name": "ipython",
    "version": 3
   },
   "file_extension": ".py",
   "mimetype": "text/x-python",
   "name": "python",
   "nbconvert_exporter": "python",
   "pygments_lexer": "ipython3",
   "version": "3.11.5"
  }
 },
 "nbformat": 4,
 "nbformat_minor": 5
}
